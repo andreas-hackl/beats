{
 "cells": [
  {
   "cell_type": "code",
   "execution_count": 1,
   "id": "1dd39c99",
   "metadata": {},
   "outputs": [],
   "source": [
    "import numpy as np\n",
    "import cuml\n",
    "import cupy, cudf\n",
    "\n",
    "from cuml.neighbors import KNeighborsRegressor\n",
    "import matplotlib.pyplot as plt\n"
   ]
  },
  {
   "cell_type": "code",
   "execution_count": 2,
   "id": "a803a4c0",
   "metadata": {},
   "outputs": [],
   "source": [
    "X_train, y_train, X_test = np.load(\"./data/dataset.npz\", allow_pickle=True).values()\n",
    "\n",
    "X_train = cupy.array(X_train)\n",
    "y_train = cupy.array(y_train)\n",
    "X_test = cupy.array(X_test)"
   ]
  },
  {
   "cell_type": "code",
   "execution_count": 3,
   "id": "4ae9b619",
   "metadata": {},
   "outputs": [
    {
     "name": "stdout",
     "output_type": "stream",
     "text": [
      "R^2 score: -2.0404e-01\n"
     ]
    }
   ],
   "source": [
    "knn = KNeighborsRegressor(n_neighbors=5, algorithm='brute', metric='euclidean')\n",
    "knn.fit(X_train, y_train)\n",
    "y0 = knn.predict(X_train)\n",
    "p = knn.score(X_train, y_train)\n",
    "print(f\"R^2 score: {p:.4e}\")\n",
    "y_pred = knn.predict(X_test)"
   ]
  },
  {
   "cell_type": "code",
   "execution_count": 4,
   "id": "9473da15",
   "metadata": {},
   "outputs": [],
   "source": [
    "import pandas\n",
    "\n",
    "\n",
    "dtest = pandas.read_csv(\"./data/test.csv\")\n",
    "\n",
    "dl = pandas.DataFrame({'id': dtest['id'], 'target': y_pred.get()})\n",
    "dl.to_csv(\"./data/submission_knn.csv\", index=False)"
   ]
  },
  {
   "cell_type": "code",
   "execution_count": 5,
   "id": "120287e7",
   "metadata": {},
   "outputs": [
    {
     "data": {
      "text/plain": [
       "array([ 96.35614014, 116.1089325 , 116.59303284, ..., 114.49149323,\n",
       "        96.05883789, 108.0448761 ], shape=(174722,))"
      ]
     },
     "execution_count": 5,
     "metadata": {},
     "output_type": "execute_result"
    }
   ],
   "source": [
    "y_pred"
   ]
  },
  {
   "cell_type": "code",
   "execution_count": null,
   "id": "208709f3",
   "metadata": {},
   "outputs": [],
   "source": []
  }
 ],
 "metadata": {
  "kernelspec": {
   "display_name": "Python 3",
   "language": "python",
   "name": "python3"
  },
  "language_info": {
   "codemirror_mode": {
    "name": "ipython",
    "version": 3
   },
   "file_extension": ".py",
   "mimetype": "text/x-python",
   "name": "python",
   "nbconvert_exporter": "python",
   "pygments_lexer": "ipython3",
   "version": "3.13.7"
  }
 },
 "nbformat": 4,
 "nbformat_minor": 5
}

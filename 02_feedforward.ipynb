{
 "cells": [
  {
   "cell_type": "code",
   "execution_count": 10,
   "id": "1651d7b7",
   "metadata": {},
   "outputs": [],
   "source": [
    "import torch\n",
    "import torch.nn as nn\n",
    "import torch.nn.functional as F\n",
    "import numpy as np\n",
    "import torch.optim as optim\n",
    "from torch.utils.data import DataLoader, TensorDataset"
   ]
  },
  {
   "cell_type": "code",
   "execution_count": 41,
   "id": "f19ec2a1",
   "metadata": {},
   "outputs": [
    {
     "name": "stdout",
     "output_type": "stream",
     "text": [
      "Using device: cuda\n",
      "X_train shape: torch.Size([524164, 9])\n"
     ]
    }
   ],
   "source": [
    "X_train, y_train, X_test = np.load(\"./data/dataset.npz\", allow_pickle=True).values()\n",
    "\n",
    "X_train = torch.tensor(X_train, dtype=torch.float32)\n",
    "y_train = torch.tensor(y_train, dtype=torch.float32)\n",
    "scale = y_train.max()\n",
    "\n",
    "y_train /= scale  # Normalize targets to [0, 1]\n",
    "X_test = torch.tensor(X_test, dtype=torch.float32)\n",
    "\n",
    "device = torch.device(\"cuda\" if torch.cuda.is_available() else \"cpu\")\n",
    "print(f\"Using device: {device}\")\n",
    "\n",
    "print(f\"X_train shape: {X_train.shape}\")"
   ]
  },
  {
   "cell_type": "code",
   "execution_count": 42,
   "id": "4c85cc13",
   "metadata": {},
   "outputs": [],
   "source": [
    "class FeedforwardNN(nn.Module):\n",
    "    def __init__(self, hidden_sizes):\n",
    "        super(FeedforwardNN, self).__init__()\n",
    "\n",
    "        self.sizes = [9] + hidden_sizes + [1]\n",
    "        layers = []\n",
    "        for i in range(len(self.sizes) - 1):\n",
    "            layers.append(nn.Linear(self.sizes[i], self.sizes[i+1]))\n",
    "            if i < len(self.sizes) - 2:\n",
    "                layers.append(nn.ReLU())\n",
    "        self.network = nn.Sequential(*layers)\n",
    "\n",
    "    def forward(self, x):\n",
    "        return self.network(x)"
   ]
  },
  {
   "cell_type": "code",
   "execution_count": 43,
   "id": "3cd6b68a",
   "metadata": {},
   "outputs": [
    {
     "name": "stdout",
     "output_type": "stream",
     "text": [
      "Epoch [1/1], Loss: 0.0924\t Time Elapsed: 6.45 sec\n"
     ]
    }
   ],
   "source": [
    "import time \n",
    "\n",
    "model = FeedforwardNN(hidden_sizes=[16, 8]).to(device)\n",
    "\n",
    "criterion = nn.MSELoss()\n",
    "optimizer = optim.Adam(model.parameters(), lr=0.0001)\n",
    "\n",
    "dataset = TensorDataset(X_train, y_train)\n",
    "dataloader = DataLoader(dataset, batch_size=128, shuffle=True)\n",
    "\n",
    "num_epochs = 1\n",
    "\n",
    "loss_list = []\n",
    "\n",
    "tstart = time.time()\n",
    "for epoch in range(num_epochs):\n",
    "\n",
    "    for inputs, targets in dataloader:\n",
    "        inputs, targets = inputs.to(device), targets.to(device)\n",
    "\n",
    "        optimizer.zero_grad()\n",
    "\n",
    "        outputs = model(inputs).squeeze()\n",
    "        loss = criterion(outputs, targets)\n",
    "        loss.backward()\n",
    "        optimizer.step()\n",
    "\n",
    "        loss_list.append(loss.item())\n",
    "\n",
    "    print(f\"Epoch [{epoch+1}/{num_epochs}], Loss: {loss_list[-1]:.4f}\\t Time Elapsed: {time.time() - tstart:.2f} sec\")\n",
    "\n"
   ]
  },
  {
   "cell_type": "code",
   "execution_count": 44,
   "id": "556fcf64",
   "metadata": {},
   "outputs": [
    {
     "data": {
      "image/png": "[encoded data removed]",
      "text/plain": [
       "<Figure size 640x480 with 1 Axes>"
      ]
     },
     "metadata": {},
     "output_type": "display_data"
    }
   ],
   "source": [
    "import matplotlib.pyplot as plt\n",
    "\n",
    "fig, ax = plt.subplots()\n",
    "ax.plot(loss_list)\n",
    "ax.set_yscale('log')\n"
   ]
  },
  {
   "cell_type": "code",
   "execution_count": 49,
   "id": "7973eaaa",
   "metadata": {},
   "outputs": [
    {
     "name": "stdout",
     "output_type": "stream",
     "text": [
      "(174722, 1)\n"
     ]
    }
   ],
   "source": [
    "import pandas\n",
    "\n",
    "predictions = model(X_test.to(device)) * scale\n",
    "\n",
    "predictions = predictions.cpu().detach().numpy()\n",
    "print(predictions.shape)\n",
    "\n",
    "dtest = pandas.read_csv(\"./data/test.csv\")\n",
    "\n",
    "dl = pandas.DataFrame({'id': dtest['id'], 'target': predictions.flatten()})\n",
    "dl.to_csv(\"./data/submission_feedforward.csv\", index=False)"
   ]
  },
  {
   "cell_type": "code",
   "execution_count": null,
   "id": "2f983d9d",
   "metadata": {},
   "outputs": [],
   "source": []
  }
 ],
 "metadata": {
  "kernelspec": {
   "display_name": "Python 3",
   "language": "python",
   "name": "python3"
  },
  "language_info": {
   "codemirror_mode": {
    "name": "ipython",
    "version": 3
   },
   "file_extension": ".py",
   "mimetype": "text/x-python",
   "name": "python",
   "nbconvert_exporter": "python",
   "pygments_lexer": "ipython3",
   "version": "3.13.7"
  }
 },
 "nbformat": 4,
 "nbformat_minor": 5
}

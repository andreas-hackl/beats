{
 "cells": [
  {
   "cell_type": "code",
   "execution_count": 1,
   "id": "1dd39c99",
   "metadata": {},
   "outputs": [],
   "source": [
    "import numpy as np\n",
    "import cuml\n",
    "import cupy, cudf\n",
    "\n",
    "from cuml import LinearRegression\n",
    "import matplotlib.pyplot as plt\n"
   ]
  },
  {
   "cell_type": "code",
   "execution_count": 2,
   "id": "a803a4c0",
   "metadata": {},
   "outputs": [],
   "source": [
    "X_train, y_train, X_test = np.load(\"./data/dataset.npz\", allow_pickle=True).values()\n",
    "\n",
    "X_train = cupy.array(X_train)\n",
    "y_train = cupy.array(y_train)\n",
    "X_test = cupy.array(X_test)"
   ]
  },
  {
   "cell_type": "code",
   "execution_count": 18,
   "id": "4ae9b619",
   "metadata": {},
   "outputs": [
    {
     "name": "stdout",
     "output_type": "stream",
     "text": [
      "R^2 score: 4.3277e-05\n"
     ]
    }
   ],
   "source": [
    "lr = LinearRegression(normalize=False, fit_intercept=True, algorithm=\"svd\")\n",
    "lr.fit(X_train, y_train)\n",
    "y0 = lr.predict(X_train)\n",
    "p = lr.score(X_train, y_train)\n",
    "print(f\"R^2 score: {p:.4e}\")\n",
    "y_pred = lr.predict(X_test)"
   ]
  },
  {
   "cell_type": "code",
   "execution_count": 20,
   "id": "9473da15",
   "metadata": {},
   "outputs": [],
   "source": [
    "import pandas\n",
    "\n",
    "\n",
    "dtest = pandas.read_csv(\"./data/test.csv\")\n",
    "\n",
    "dl = pandas.DataFrame({'id': dtest['id'], 'target': y_pred.get()})\n",
    "dl.to_csv(\"./data/submission_linear_regression.csv\", index=False)"
   ]
  },
  {
   "cell_type": "code",
   "execution_count": null,
   "id": "120287e7",
   "metadata": {},
   "outputs": [
    {
     "name": "stdout",
     "output_type": "stream",
     "text": [
      "[ 4415071.36335522 -1440323.56954358  8384977.37545763 ...\n",
      " -8286956.42544479 -5090482.33038291  6725306.03596666]\n"
     ]
    }
   ],
   "source": []
  },
  {
   "cell_type": "code",
   "execution_count": null,
   "id": "208709f3",
   "metadata": {},
   "outputs": [],
   "source": []
  }
 ],
 "metadata": {
  "kernelspec": {
   "display_name": "Python 3",
   "language": "python",
   "name": "python3"
  },
  "language_info": {
   "codemirror_mode": {
    "name": "ipython",
    "version": 3
   },
   "file_extension": ".py",
   "mimetype": "text/x-python",
   "name": "python",
   "nbconvert_exporter": "python",
   "pygments_lexer": "ipython3",
   "version": "3.13.7"
  }
 },
 "nbformat": 4,
 "nbformat_minor": 5
}

{
 "cells": [
  {
   "cell_type": "code",
   "execution_count": 1,
   "id": "b1d75c63",
   "metadata": {},
   "outputs": [],
   "source": [
    "import numpy as np\n",
    "import cuml\n",
    "import cupy\n",
    "from cuml.ensemble import RandomForestRegressor\n",
    "\n",
    "from sklearn.decomposition import PCA\n",
    "\n",
    "import matplotlib.pyplot as plt"
   ]
  },
  {
   "cell_type": "code",
   "execution_count": 2,
   "id": "770d37b6",
   "metadata": {},
   "outputs": [],
   "source": [
    "X_train, y_train, X_test = np.load(\"./data/dataset.npz\", allow_pickle=True).values()\n",
    "\n",
    "pca = PCA(n_components=2)\n",
    "Y_train = pca.fit_transform(X_train)\n",
    "Y_test = pca.transform(X_test)\n"
   ]
  },
  {
   "cell_type": "code",
   "execution_count": 3,
   "id": "0eb8d171",
   "metadata": {},
   "outputs": [],
   "source": [
    "Yg_train = cupy.asarray(Y_train)\n",
    "Yg_test = cupy.asarray(Y_test)\n",
    "yg_train = cupy.asarray(y_train)\n",
    "\n",
    "reg = RandomForestRegressor(random_state=42)\n",
    "reg.fit(Yg_train, yg_train)\n",
    "y_pred = reg.predict(Yg_test)"
   ]
  },
  {
   "cell_type": "code",
   "execution_count": 4,
   "id": "3b0e262d",
   "metadata": {},
   "outputs": [
    {
     "data": {
      "text/plain": [
       "0.01894531523004428"
      ]
     },
     "execution_count": 4,
     "metadata": {},
     "output_type": "execute_result"
    }
   ],
   "source": [
    "reg.score(Yg_train, yg_train)"
   ]
  },
  {
   "cell_type": "code",
   "execution_count": 9,
   "id": "6e8f20ff",
   "metadata": {},
   "outputs": [
    {
     "name": "stdout",
     "output_type": "stream",
     "text": [
      "Trained model with (md=5, mf=1, ne=50) in 1.50 seconds\n",
      "Trained model with (md=5, mf=1, ne=100) in 2.56 seconds\n",
      "Trained model with (md=5, mf=1, ne=200) in 4.96 seconds\n",
      "Trained model with (md=5, mf=2, ne=50) in 1.30 seconds\n",
      "Trained model with (md=5, mf=2, ne=100) in 2.26 seconds\n",
      "Trained model with (md=5, mf=2, ne=200) in 4.34 seconds\n",
      "Trained model with (md=10, mf=1, ne=50) in 1.29 seconds\n",
      "Trained model with (md=10, mf=1, ne=100) in 2.22 seconds\n",
      "Trained model with (md=10, mf=1, ne=200) in 4.69 seconds\n",
      "Trained model with (md=10, mf=2, ne=50) in 1.32 seconds\n",
      "Trained model with (md=10, mf=2, ne=100) in 2.71 seconds\n",
      "Trained model with (md=10, mf=2, ne=200) in 5.29 seconds\n",
      "Trained model with (md=15, mf=1, ne=50) in 1.30 seconds\n",
      "Trained model with (md=15, mf=1, ne=100) in 2.64 seconds\n",
      "Trained model with (md=15, mf=1, ne=200) in 4.77 seconds\n",
      "Trained model with (md=15, mf=2, ne=50) in 1.90 seconds\n",
      "Trained model with (md=15, mf=2, ne=100) in 3.51 seconds\n",
      "Trained model with (md=15, mf=2, ne=200) in 6.98 seconds\n",
      "Trained model with (md=20, mf=1, ne=50) in 1.49 seconds\n",
      "Trained model with (md=20, mf=1, ne=100) in 2.63 seconds\n",
      "Trained model with (md=20, mf=1, ne=200) in 5.22 seconds\n",
      "Trained model with (md=20, mf=2, ne=50) in 2.53 seconds\n",
      "Trained model with (md=20, mf=2, ne=100) in 4.77 seconds\n",
      "Trained model with (md=20, mf=2, ne=200) in 9.55 seconds\n"
     ]
    }
   ],
   "source": [
    "import time\n",
    "\n",
    "# some hyperparameter tuning\n",
    "\n",
    "max_depths = [5, 10, 15, 20]\n",
    "max_features = [1, 2]\n",
    "n_estimators = [50, 100, 200]\n",
    "\n",
    "results = {(md, mf, ne): 1e8 for md in max_depths for mf in max_features for ne in n_estimators}\n",
    "times = {(md, mf, ne): 1e8 for md in max_depths for mf in max_features for ne in n_estimators}\n",
    "for (md, mf, ne) in results.keys():\n",
    "    start = time.time()\n",
    "    reg = RandomForestRegressor(max_depth=md, max_features=mf, n_estimators=ne, random_state=42)\n",
    "    reg.fit(Yg_train, yg_train)\n",
    "    results[(md, mf, ne)] = reg.score(Yg_train, yg_train)\n",
    "    end = time.time()\n",
    "    times[(md, mf, ne)] = end - start\n",
    "    print(f\"Trained model with (md={md}, mf={mf}, ne={ne}) in {end - start:.2f} seconds\")"
   ]
  },
  {
   "cell_type": "code",
   "execution_count": 10,
   "id": "b044b686",
   "metadata": {},
   "outputs": [
    {
     "name": "stdout",
     "output_type": "stream",
     "text": [
      "Best params: ((5, 1, 50), 0.00010608167465919749)\n",
      "Best time: ((10, 1, 50), 1.293670892715454)\n"
     ]
    }
   ],
   "source": [
    "best_params = min(results.items(), key=lambda x: x[1])\n",
    "print(f\"Best params: {best_params}\")\n",
    "\n",
    "best_time = min(times.items(), key=lambda x: x[1])\n",
    "print(f\"Best time: {best_time}\")"
   ]
  },
  {
   "cell_type": "code",
   "execution_count": 14,
   "id": "c671ffc3",
   "metadata": {},
   "outputs": [],
   "source": [
    "reg = RandomForestRegressor(max_depth=best_params[0][0], max_features=best_params[0][1], n_estimators=best_params[0][2], random_state=42)\n",
    "reg.fit(Yg_train, yg_train)\n",
    "y_pred = reg.predict(Yg_test)"
   ]
  },
  {
   "cell_type": "code",
   "execution_count": 16,
   "id": "31fb1461",
   "metadata": {},
   "outputs": [],
   "source": [
    "import pandas\n",
    "dtest = pandas.read_csv('./data/test.csv')\n",
    "\n",
    "dl = pandas.DataFrame({'id': dtest['id'], 'beats': y_pred.get()})\n",
    "dl.to_csv('./data/submission_rf_pca.csv', index=False)"
   ]
  },
  {
   "cell_type": "code",
   "execution_count": null,
   "id": "3a89fdaf",
   "metadata": {},
   "outputs": [],
   "source": []
  }
 ],
 "metadata": {
  "kernelspec": {
   "display_name": "Python 3",
   "language": "python",
   "name": "python3"
  },
  "language_info": {
   "codemirror_mode": {
    "name": "ipython",
    "version": 3
   },
   "file_extension": ".py",
   "mimetype": "text/x-python",
   "name": "python",
   "nbconvert_exporter": "python",
   "pygments_lexer": "ipython3",
   "version": "3.13.7"
  }
 },
 "nbformat": 4,
 "nbformat_minor": 5
}
